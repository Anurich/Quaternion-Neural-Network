{
 "cells": [
  {
   "cell_type": "code",
   "execution_count": 21,
   "metadata": {},
   "outputs": [
    {
     "name": "stdout",
     "output_type": "stream",
     "text": [
      "Requirement already satisfied: pillow in /opt/anaconda3/lib/python3.6/site-packages (5.0.0)\n",
      "\u001b[33mYou are using pip version 18.0, however version 19.1.1 is available.\n",
      "You should consider upgrading via the 'pip install --upgrade pip' command.\u001b[0m\n",
      "Requirement already satisfied: pyquaternion in /opt/anaconda3/lib/python3.6/site-packages (0.9.5)\n",
      "Requirement already satisfied: numpy in /opt/anaconda3/lib/python3.6/site-packages (from pyquaternion) (1.14.5)\n",
      "\u001b[33mYou are using pip version 18.0, however version 19.1.1 is available.\n",
      "You should consider upgrading via the 'pip install --upgrade pip' command.\u001b[0m\n",
      "Collecting numpy-quaternion\n",
      "\u001b[?25l  Downloading https://files.pythonhosted.org/packages/e3/36/c4a17998ed49b7d2818c82fcfbf2f2726f7ef4cf76c947834a6759f12993/numpy-quaternion-2019.6.11.17.26.3.tar.gz (48kB)\n",
      "\u001b[K    100% |################################| 51kB 5.6MB/s \n",
      "\u001b[?25hRequirement already satisfied: numpy>=1.13 in /opt/anaconda3/lib/python3.6/site-packages (from numpy-quaternion) (1.14.5)\n",
      "Building wheels for collected packages: numpy-quaternion\n",
      "  Running setup.py bdist_wheel for numpy-quaternion ... \u001b[?25ldone\n",
      "\u001b[?25h  Stored in directory: /home/jovyan/.cache/pip/wheels/68/63/b9/9fa2ab074bbce8fcd198c798adf51a0b900b4704051b6bb749\n",
      "Successfully built numpy-quaternion\n",
      "Installing collected packages: numpy-quaternion\n",
      "Successfully installed numpy-quaternion-2019.6.25.11.58.56\n",
      "\u001b[33mYou are using pip version 18.0, however version 19.1.1 is available.\n",
      "You should consider upgrading via the 'pip install --upgrade pip' command.\u001b[0m\n"
     ]
    }
   ],
   "source": [
    "!pip install pillow\n",
    "!pip install pyquaternion\n",
    "!pip install numpy-quaternion"
   ]
  },
  {
   "cell_type": "code",
   "execution_count": 22,
   "metadata": {},
   "outputs": [
    {
     "name": "stderr",
     "output_type": "stream",
     "text": [
      "/opt/anaconda3/lib/python3.6/site-packages/quaternion/numba_wrapper.py:20: UserWarning: \n",
      "\n",
      "!!!!!!!!!!!!!!!!!!!!!!!!!!!!!!!!!!!!!!!!!!!!!!!!!!!!!\n",
      "Could not import from numba, which means that some\n",
      "parts of this code may run MUCH more slowly.  You\n",
      "may wish to install numba.\n",
      "!!!!!!!!!!!!!!!!!!!!!!!!!!!!!!!!!!!!!!!!!!!!!!!!!!!!!\n",
      "\n",
      "  warnings.warn(warning_text)\n"
     ]
    }
   ],
   "source": [
    "import numpy as np\n",
    "import quaternion\n",
    "from PIL import Image"
   ]
  },
  {
   "cell_type": "code",
   "execution_count": 17,
   "metadata": {},
   "outputs": [],
   "source": [
    "im = Image.open(\"kodim01.png\")\n",
    "size = (256, 256)\n",
    "im = im.resize(size)"
   ]
  },
  {
   "cell_type": "code",
   "execution_count": 45,
   "metadata": {},
   "outputs": [
    {
     "ename": "IndexError",
     "evalue": "index 256 is out of bounds for axis 0 with size 256",
     "output_type": "error",
     "traceback": [
      "\u001b[0;31m---------------------------------------------------------------------------\u001b[0m",
      "\u001b[0;31mIndexError\u001b[0m                                Traceback (most recent call last)",
      "\u001b[0;32m<ipython-input-45-a62c39c23b20>\u001b[0m in \u001b[0;36m<module>\u001b[0;34m()\u001b[0m\n\u001b[1;32m      7\u001b[0m \u001b[0mqim\u001b[0m\u001b[0;34m.\u001b[0m\u001b[0mshape\u001b[0m\u001b[0;34m\u001b[0m\u001b[0m\n\u001b[1;32m      8\u001b[0m \u001b[0mqim\u001b[0m \u001b[0;34m=\u001b[0m \u001b[0mquaternion\u001b[0m\u001b[0;34m.\u001b[0m\u001b[0mas_quat_array\u001b[0m\u001b[0;34m(\u001b[0m\u001b[0mqim\u001b[0m\u001b[0;34m)\u001b[0m\u001b[0;34m\u001b[0m\u001b[0m\n\u001b[0;32m----> 9\u001b[0;31m \u001b[0mqim\u001b[0m\u001b[0;34m[\u001b[0m\u001b[0;36m256\u001b[0m\u001b[0;34m]\u001b[0m\u001b[0;34m\u001b[0m\u001b[0m\n\u001b[0m",
      "\u001b[0;31mIndexError\u001b[0m: index 256 is out of bounds for axis 0 with size 256"
     ]
    }
   ],
   "source": [
    "npim = np.asarray(im)\n",
    "qim = np.zeros((256,256,4))\n",
    "qim[:,:,0]=np.zeros(size)\n",
    "qim[:,:,1]= npim[:,:,0]\n",
    "qim[:,:,2]= npim[:,:,1]\n",
    "qim[:,:,3]= npim[:,:,2]\n",
    "qim.shape\n",
    "qim = quaternion.as_quat_array(qim)\n",
    "qim"
   ]
  },
  {
   "cell_type": "code",
   "execution_count": 38,
   "metadata": {},
   "outputs": [
    {
     "data": {
      "text/plain": [
       "(256, 256, 4)"
      ]
     },
     "execution_count": 38,
     "metadata": {},
     "output_type": "execute_result"
    }
   ],
   "source": []
  },
  {
   "cell_type": "code",
   "execution_count": null,
   "metadata": {},
   "outputs": [],
   "source": []
  }
 ],
 "metadata": {
  "kernelspec": {
   "display_name": "Python 3",
   "language": "python",
   "name": "python3"
  },
  "language_info": {
   "codemirror_mode": {
    "name": "ipython",
    "version": 3
   },
   "file_extension": ".py",
   "mimetype": "text/x-python",
   "name": "python",
   "nbconvert_exporter": "python",
   "pygments_lexer": "ipython3",
   "version": "3.6.5"
  }
 },
 "nbformat": 4,
 "nbformat_minor": 2
}
